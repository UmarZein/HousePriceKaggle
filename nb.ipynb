{
 "cells": [
  {
   "cell_type": "code",
   "execution_count": 1,
   "id": "988bd34c-baa5-4324-9696-320e38fdfbed",
   "metadata": {
    "tags": []
   },
   "outputs": [],
   "source": [
    "import numpy as np\n",
    "import pandas as pd\n",
    "import matplotlib.pyplot as plt\n",
    "import seaborn as sns"
   ]
  },
  {
   "cell_type": "code",
   "execution_count": 50,
   "id": "c29e9d84-216a-4c31-b971-e1913cbe82bb",
   "metadata": {
    "tags": []
   },
   "outputs": [],
   "source": [
    "train = pd.read_csv(\"train.csv\")\n",
    "test = pd.read_csv(\"test.csv\")\n",
    "test['SalePrice']=train['SalePrice'].mean()\n",
    "test.index=test.index+len(train)"
   ]
  },
  {
   "cell_type": "code",
   "execution_count": 51,
   "id": "94d9f670-9227-47cc-97fa-5b35e17d3684",
   "metadata": {
    "tags": []
   },
   "outputs": [],
   "source": [
    "df0=pd.concat([train,test])"
   ]
  },
  {
   "cell_type": "code",
   "execution_count": 52,
   "id": "adbfa41a-fe74-4765-81cb-1ceb82a31953",
   "metadata": {
    "tags": []
   },
   "outputs": [
    {
     "data": {
      "text/plain": [
       "((2919, 81), (1460, 81), (1459, 81))"
      ]
     },
     "execution_count": 52,
     "metadata": {},
     "output_type": "execute_result"
    }
   ],
   "source": [
    "df0.shape,train.shape,test.shape"
   ]
  },
  {
   "cell_type": "code",
   "execution_count": 53,
   "id": "f12f8f83-67a2-4db4-b81a-088e27c2317e",
   "metadata": {
    "tags": []
   },
   "outputs": [
    {
     "data": {
      "text/html": [
       "<div>\n",
       "<style scoped>\n",
       "    .dataframe tbody tr th:only-of-type {\n",
       "        vertical-align: middle;\n",
       "    }\n",
       "\n",
       "    .dataframe tbody tr th {\n",
       "        vertical-align: top;\n",
       "    }\n",
       "\n",
       "    .dataframe thead th {\n",
       "        text-align: right;\n",
       "    }\n",
       "</style>\n",
       "<table border=\"1\" class=\"dataframe\">\n",
       "  <thead>\n",
       "    <tr style=\"text-align: right;\">\n",
       "      <th></th>\n",
       "      <th>Id</th>\n",
       "      <th>MSSubClass</th>\n",
       "      <th>MSZoning</th>\n",
       "      <th>LotFrontage</th>\n",
       "      <th>LotArea</th>\n",
       "      <th>Street</th>\n",
       "      <th>Alley</th>\n",
       "      <th>LotShape</th>\n",
       "      <th>LandContour</th>\n",
       "      <th>Utilities</th>\n",
       "      <th>...</th>\n",
       "      <th>PoolArea</th>\n",
       "      <th>PoolQC</th>\n",
       "      <th>Fence</th>\n",
       "      <th>MiscFeature</th>\n",
       "      <th>MiscVal</th>\n",
       "      <th>MoSold</th>\n",
       "      <th>YrSold</th>\n",
       "      <th>SaleType</th>\n",
       "      <th>SaleCondition</th>\n",
       "      <th>SalePrice</th>\n",
       "    </tr>\n",
       "  </thead>\n",
       "  <tbody>\n",
       "    <tr>\n",
       "      <th>0</th>\n",
       "      <td>1</td>\n",
       "      <td>60</td>\n",
       "      <td>RL</td>\n",
       "      <td>65.0</td>\n",
       "      <td>8450</td>\n",
       "      <td>Pave</td>\n",
       "      <td>NaN</td>\n",
       "      <td>Reg</td>\n",
       "      <td>Lvl</td>\n",
       "      <td>AllPub</td>\n",
       "      <td>...</td>\n",
       "      <td>0</td>\n",
       "      <td>NaN</td>\n",
       "      <td>NaN</td>\n",
       "      <td>NaN</td>\n",
       "      <td>0</td>\n",
       "      <td>2</td>\n",
       "      <td>2008</td>\n",
       "      <td>WD</td>\n",
       "      <td>Normal</td>\n",
       "      <td>208500.0</td>\n",
       "    </tr>\n",
       "    <tr>\n",
       "      <th>1</th>\n",
       "      <td>2</td>\n",
       "      <td>20</td>\n",
       "      <td>RL</td>\n",
       "      <td>80.0</td>\n",
       "      <td>9600</td>\n",
       "      <td>Pave</td>\n",
       "      <td>NaN</td>\n",
       "      <td>Reg</td>\n",
       "      <td>Lvl</td>\n",
       "      <td>AllPub</td>\n",
       "      <td>...</td>\n",
       "      <td>0</td>\n",
       "      <td>NaN</td>\n",
       "      <td>NaN</td>\n",
       "      <td>NaN</td>\n",
       "      <td>0</td>\n",
       "      <td>5</td>\n",
       "      <td>2007</td>\n",
       "      <td>WD</td>\n",
       "      <td>Normal</td>\n",
       "      <td>181500.0</td>\n",
       "    </tr>\n",
       "    <tr>\n",
       "      <th>2</th>\n",
       "      <td>3</td>\n",
       "      <td>60</td>\n",
       "      <td>RL</td>\n",
       "      <td>68.0</td>\n",
       "      <td>11250</td>\n",
       "      <td>Pave</td>\n",
       "      <td>NaN</td>\n",
       "      <td>IR1</td>\n",
       "      <td>Lvl</td>\n",
       "      <td>AllPub</td>\n",
       "      <td>...</td>\n",
       "      <td>0</td>\n",
       "      <td>NaN</td>\n",
       "      <td>NaN</td>\n",
       "      <td>NaN</td>\n",
       "      <td>0</td>\n",
       "      <td>9</td>\n",
       "      <td>2008</td>\n",
       "      <td>WD</td>\n",
       "      <td>Normal</td>\n",
       "      <td>223500.0</td>\n",
       "    </tr>\n",
       "    <tr>\n",
       "      <th>3</th>\n",
       "      <td>4</td>\n",
       "      <td>70</td>\n",
       "      <td>RL</td>\n",
       "      <td>60.0</td>\n",
       "      <td>9550</td>\n",
       "      <td>Pave</td>\n",
       "      <td>NaN</td>\n",
       "      <td>IR1</td>\n",
       "      <td>Lvl</td>\n",
       "      <td>AllPub</td>\n",
       "      <td>...</td>\n",
       "      <td>0</td>\n",
       "      <td>NaN</td>\n",
       "      <td>NaN</td>\n",
       "      <td>NaN</td>\n",
       "      <td>0</td>\n",
       "      <td>2</td>\n",
       "      <td>2006</td>\n",
       "      <td>WD</td>\n",
       "      <td>Abnorml</td>\n",
       "      <td>140000.0</td>\n",
       "    </tr>\n",
       "    <tr>\n",
       "      <th>4</th>\n",
       "      <td>5</td>\n",
       "      <td>60</td>\n",
       "      <td>RL</td>\n",
       "      <td>84.0</td>\n",
       "      <td>14260</td>\n",
       "      <td>Pave</td>\n",
       "      <td>NaN</td>\n",
       "      <td>IR1</td>\n",
       "      <td>Lvl</td>\n",
       "      <td>AllPub</td>\n",
       "      <td>...</td>\n",
       "      <td>0</td>\n",
       "      <td>NaN</td>\n",
       "      <td>NaN</td>\n",
       "      <td>NaN</td>\n",
       "      <td>0</td>\n",
       "      <td>12</td>\n",
       "      <td>2008</td>\n",
       "      <td>WD</td>\n",
       "      <td>Normal</td>\n",
       "      <td>250000.0</td>\n",
       "    </tr>\n",
       "    <tr>\n",
       "      <th>...</th>\n",
       "      <td>...</td>\n",
       "      <td>...</td>\n",
       "      <td>...</td>\n",
       "      <td>...</td>\n",
       "      <td>...</td>\n",
       "      <td>...</td>\n",
       "      <td>...</td>\n",
       "      <td>...</td>\n",
       "      <td>...</td>\n",
       "      <td>...</td>\n",
       "      <td>...</td>\n",
       "      <td>...</td>\n",
       "      <td>...</td>\n",
       "      <td>...</td>\n",
       "      <td>...</td>\n",
       "      <td>...</td>\n",
       "      <td>...</td>\n",
       "      <td>...</td>\n",
       "      <td>...</td>\n",
       "      <td>...</td>\n",
       "      <td>...</td>\n",
       "    </tr>\n",
       "    <tr>\n",
       "      <th>1455</th>\n",
       "      <td>1456</td>\n",
       "      <td>60</td>\n",
       "      <td>RL</td>\n",
       "      <td>62.0</td>\n",
       "      <td>7917</td>\n",
       "      <td>Pave</td>\n",
       "      <td>NaN</td>\n",
       "      <td>Reg</td>\n",
       "      <td>Lvl</td>\n",
       "      <td>AllPub</td>\n",
       "      <td>...</td>\n",
       "      <td>0</td>\n",
       "      <td>NaN</td>\n",
       "      <td>NaN</td>\n",
       "      <td>NaN</td>\n",
       "      <td>0</td>\n",
       "      <td>8</td>\n",
       "      <td>2007</td>\n",
       "      <td>WD</td>\n",
       "      <td>Normal</td>\n",
       "      <td>175000.0</td>\n",
       "    </tr>\n",
       "    <tr>\n",
       "      <th>1456</th>\n",
       "      <td>1457</td>\n",
       "      <td>20</td>\n",
       "      <td>RL</td>\n",
       "      <td>85.0</td>\n",
       "      <td>13175</td>\n",
       "      <td>Pave</td>\n",
       "      <td>NaN</td>\n",
       "      <td>Reg</td>\n",
       "      <td>Lvl</td>\n",
       "      <td>AllPub</td>\n",
       "      <td>...</td>\n",
       "      <td>0</td>\n",
       "      <td>NaN</td>\n",
       "      <td>MnPrv</td>\n",
       "      <td>NaN</td>\n",
       "      <td>0</td>\n",
       "      <td>2</td>\n",
       "      <td>2010</td>\n",
       "      <td>WD</td>\n",
       "      <td>Normal</td>\n",
       "      <td>210000.0</td>\n",
       "    </tr>\n",
       "    <tr>\n",
       "      <th>1457</th>\n",
       "      <td>1458</td>\n",
       "      <td>70</td>\n",
       "      <td>RL</td>\n",
       "      <td>66.0</td>\n",
       "      <td>9042</td>\n",
       "      <td>Pave</td>\n",
       "      <td>NaN</td>\n",
       "      <td>Reg</td>\n",
       "      <td>Lvl</td>\n",
       "      <td>AllPub</td>\n",
       "      <td>...</td>\n",
       "      <td>0</td>\n",
       "      <td>NaN</td>\n",
       "      <td>GdPrv</td>\n",
       "      <td>Shed</td>\n",
       "      <td>2500</td>\n",
       "      <td>5</td>\n",
       "      <td>2010</td>\n",
       "      <td>WD</td>\n",
       "      <td>Normal</td>\n",
       "      <td>266500.0</td>\n",
       "    </tr>\n",
       "    <tr>\n",
       "      <th>1458</th>\n",
       "      <td>1459</td>\n",
       "      <td>20</td>\n",
       "      <td>RL</td>\n",
       "      <td>68.0</td>\n",
       "      <td>9717</td>\n",
       "      <td>Pave</td>\n",
       "      <td>NaN</td>\n",
       "      <td>Reg</td>\n",
       "      <td>Lvl</td>\n",
       "      <td>AllPub</td>\n",
       "      <td>...</td>\n",
       "      <td>0</td>\n",
       "      <td>NaN</td>\n",
       "      <td>NaN</td>\n",
       "      <td>NaN</td>\n",
       "      <td>0</td>\n",
       "      <td>4</td>\n",
       "      <td>2010</td>\n",
       "      <td>WD</td>\n",
       "      <td>Normal</td>\n",
       "      <td>142125.0</td>\n",
       "    </tr>\n",
       "    <tr>\n",
       "      <th>1459</th>\n",
       "      <td>1460</td>\n",
       "      <td>20</td>\n",
       "      <td>RL</td>\n",
       "      <td>75.0</td>\n",
       "      <td>9937</td>\n",
       "      <td>Pave</td>\n",
       "      <td>NaN</td>\n",
       "      <td>Reg</td>\n",
       "      <td>Lvl</td>\n",
       "      <td>AllPub</td>\n",
       "      <td>...</td>\n",
       "      <td>0</td>\n",
       "      <td>NaN</td>\n",
       "      <td>NaN</td>\n",
       "      <td>NaN</td>\n",
       "      <td>0</td>\n",
       "      <td>6</td>\n",
       "      <td>2008</td>\n",
       "      <td>WD</td>\n",
       "      <td>Normal</td>\n",
       "      <td>147500.0</td>\n",
       "    </tr>\n",
       "  </tbody>\n",
       "</table>\n",
       "<p>1460 rows × 81 columns</p>\n",
       "</div>"
      ],
      "text/plain": [
       "        Id  MSSubClass MSZoning  LotFrontage  LotArea Street Alley LotShape  \\\n",
       "0        1          60       RL         65.0     8450   Pave   NaN      Reg   \n",
       "1        2          20       RL         80.0     9600   Pave   NaN      Reg   \n",
       "2        3          60       RL         68.0    11250   Pave   NaN      IR1   \n",
       "3        4          70       RL         60.0     9550   Pave   NaN      IR1   \n",
       "4        5          60       RL         84.0    14260   Pave   NaN      IR1   \n",
       "...    ...         ...      ...          ...      ...    ...   ...      ...   \n",
       "1455  1456          60       RL         62.0     7917   Pave   NaN      Reg   \n",
       "1456  1457          20       RL         85.0    13175   Pave   NaN      Reg   \n",
       "1457  1458          70       RL         66.0     9042   Pave   NaN      Reg   \n",
       "1458  1459          20       RL         68.0     9717   Pave   NaN      Reg   \n",
       "1459  1460          20       RL         75.0     9937   Pave   NaN      Reg   \n",
       "\n",
       "     LandContour Utilities  ... PoolArea PoolQC  Fence MiscFeature MiscVal  \\\n",
       "0            Lvl    AllPub  ...        0    NaN    NaN         NaN       0   \n",
       "1            Lvl    AllPub  ...        0    NaN    NaN         NaN       0   \n",
       "2            Lvl    AllPub  ...        0    NaN    NaN         NaN       0   \n",
       "3            Lvl    AllPub  ...        0    NaN    NaN         NaN       0   \n",
       "4            Lvl    AllPub  ...        0    NaN    NaN         NaN       0   \n",
       "...          ...       ...  ...      ...    ...    ...         ...     ...   \n",
       "1455         Lvl    AllPub  ...        0    NaN    NaN         NaN       0   \n",
       "1456         Lvl    AllPub  ...        0    NaN  MnPrv         NaN       0   \n",
       "1457         Lvl    AllPub  ...        0    NaN  GdPrv        Shed    2500   \n",
       "1458         Lvl    AllPub  ...        0    NaN    NaN         NaN       0   \n",
       "1459         Lvl    AllPub  ...        0    NaN    NaN         NaN       0   \n",
       "\n",
       "     MoSold YrSold  SaleType  SaleCondition  SalePrice  \n",
       "0         2   2008        WD         Normal   208500.0  \n",
       "1         5   2007        WD         Normal   181500.0  \n",
       "2         9   2008        WD         Normal   223500.0  \n",
       "3         2   2006        WD        Abnorml   140000.0  \n",
       "4        12   2008        WD         Normal   250000.0  \n",
       "...     ...    ...       ...            ...        ...  \n",
       "1455      8   2007        WD         Normal   175000.0  \n",
       "1456      2   2010        WD         Normal   210000.0  \n",
       "1457      5   2010        WD         Normal   266500.0  \n",
       "1458      4   2010        WD         Normal   142125.0  \n",
       "1459      6   2008        WD         Normal   147500.0  \n",
       "\n",
       "[1460 rows x 81 columns]"
      ]
     },
     "execution_count": 53,
     "metadata": {},
     "output_type": "execute_result"
    }
   ],
   "source": [
    "df0.iloc[:len(train)]"
   ]
  },
  {
   "cell_type": "markdown",
   "id": "133d8fe6-a618-4f0d-b493-f37bf23339a3",
   "metadata": {},
   "source": [
    "Kita mau prediksi `SalePrice`, maka marilah kita lakukan analisis hubungan kolum-kolum lain dengannya\n",
    "\n",
    "Mari kita lihat deskripsi data (dapat dilihat di situs kaggle atau file `data_description.txt`)\n",
    "\n",
    "___"
   ]
  },
  {
   "cell_type": "markdown",
   "id": "c7758410-c01e-47e4-a998-04e312b5c3d2",
   "metadata": {},
   "source": [
    "Berikut penemuan yang didapatkan setelah membaca deskripsi data:\n",
    "\n",
    "**Berikut 4 skala data (data scale)**\n",
    "\n",
    "Nominal: diskrit & tidak berurut (laki dan perempuan, warna-warna, lokasi-lokasi/kordinat)\n",
    "\n",
    "Ordinal: diskrit & berurut (kanker stage 1, 2, dll.)\n",
    "\n",
    "Interval: kontinuu & tidak bisa ditambah dan dibagi (2 Januari 1999, tanggal-tanggal, biasanya berhubungan dengan waktu)\n",
    "\n",
    "Ratio (\"rasio\"?): kontinuu & bisa ditambah (100 volt, 100.5 kg, 0 detik)\n",
    "\n",
    "> ingat, detik menit jam (ratio) berbeda dengan tanggal (interval)\n",
    "\n",
    "> ada juga data boolean, yaitu yang nilainya ada 2 kemungkinan. kyknya data ini bisa dimasukkan ke nominal atau ordinal, kurang tau yang \"lebih benar\" yang mana. Namun pada akhirnya akan dirubah menjadi 1 dan 0 atau 0 dan 1 (biasanya algoritmanya tidak akan mementingkan urutannya kalau hanya 2 kemungkinan)\n",
    "\n",
    "Kita akan pisah kolum berdasarkan skala data\n",
    "\n",
    "Kolum nominal:\n",
    "`MSSubClass`, `MSZoning`, `Street`, `LandContour`, \n",
    "`LotConfig`, `Neighborhood`, `Condition1`, `Condition2`,\n",
    "`BldgType`, `HouseStyle`, `RoofStyle`, `RoofMatl`, `Exterior1st`, \n",
    "`Exterior2nd`, `MasVnrType`, `Foundation`, `Heating`, `Electrical`, `GarageType`, \n",
    "`MoSold`, `YrSold`, \n",
    "`SaleType`, `SaleCondition`,`CentralAir`\n",
    "\n",
    "Kolum ordinal:\n",
    "`Alley`, `LotShape`, `Utilities`, `LandSlope`, `OverallQual`, \n",
    "`OverallCond`, `ExterQual`, `ExterCond`, `BsmtQual`, `BsmtCond`, `BsmtExposure`,\n",
    "`BsmtFinType1`,  `BsmtFinType2`,  `HeatingQC`,  `KitchenQual`,  \n",
    "`Functional`,  `FireplaceQu`,  `GarageFinish`,  `GarageQual`,  `GarageCond`,  `PavedDrive`, \n",
    "`PoolQC`, `Fence`, `MiscFeature`\n",
    "\n",
    "Kolum interval:\n",
    "`YearBuilt`, `YearRemodAdd`, `GarageYrBlt`\n",
    "\n",
    "Kolum ratio:\n",
    "`LotFrontage`, `LotArea`, `MasVnrArea`, `BsmtFinSF1`, `BsmtFinSF2`, \n",
    "`BsmtUnfSF`, `TotalBsmtSF`, `1stFlrSF`, `2ndFlrSF`, `LowQualFinSF`, `GrLivArea`, \n",
    "`BsmtFullBath`, `BsmtHalfBath`, `FullBath`, `HalfBath`, `BedroomAbvGr`, `KitchenAbvGr`, \n",
    "`TotRmsAbvGrd`, `Fireplaces`, `GarageCars`, `GarageArea`, `WoodDeckSF`, `OpenPorchSF`, \n",
    "`EnclosedPorch`, `3SsnPorch`, `ScreenPorch`, `PoolArea`,\n",
    "`MiscVal`, `SalePrice`\n",
    "\n",
    "___"
   ]
  },
  {
   "cell_type": "code",
   "execution_count": 55,
   "id": "ad6748f7-28e7-4051-9334-54892e43554b",
   "metadata": {
    "tags": []
   },
   "outputs": [],
   "source": [
    "K_NOMINAL={\"MSSubClass\", \"MSZoning\", \"Street\", \"LandContour\", \n",
    "\"LotConfig\", \"Neighborhood\", \"Condition1\", \"Condition2\",\n",
    "\"BldgType\", \"HouseStyle\", \"RoofStyle\", \"RoofMatl\", \"Exterior1st\", \n",
    "\"Exterior2nd\", \"MasVnrType\", \"Foundation\", \"Heating\", \"Electrical\", \"GarageType\", \n",
    "\"MoSold\", \"YrSold\", \n",
    "\"SaleType\", \"SaleCondition\",\"CentralAir\"}\n",
    "\n",
    "K_ORDINAL={\"Alley\", \"LotShape\", \"Utilities\", \"LandSlope\", \"OverallQual\", \n",
    "\"OverallCond\", \"ExterQual\", \"ExterCond\", \"BsmtQual\", \"BsmtCond\", \"BsmtExposure\",\n",
    "\"BsmtFinType1\",  \"BsmtFinType2\",  \"HeatingQC\",  \"KitchenQual\",  \n",
    "\"Functional\",  \"FireplaceQu\",  \"GarageFinish\",  \"GarageQual\",  \"GarageCond\",  \"PavedDrive\", \n",
    "\"PoolQC\", \"Fence\", \"MiscFeature\"}\n",
    "\n",
    "K_INTERVAL={\"YearBuilt\", \"YearRemodAdd\", \"GarageYrBlt\"}\n",
    "\n",
    "K_RATIO={\"LotFrontage\", \"LotArea\", \"MasVnrArea\", \"BsmtFinSF1\", \"BsmtFinSF2\", \n",
    "\"BsmtUnfSF\", \"TotalBsmtSF\", \"1stFlrSF\", \"2ndFlrSF\", \"LowQualFinSF\", \"GrLivArea\", \n",
    "\"BsmtFullBath\", \"BsmtHalfBath\", \"FullBath\", \"HalfBath\", \"BedroomAbvGr\", \"KitchenAbvGr\", \n",
    "\"TotRmsAbvGrd\", \"Fireplaces\", \"GarageCars\", \"GarageArea\", \"WoodDeckSF\", \"OpenPorchSF\", \n",
    "\"EnclosedPorch\", \"3SsnPorch\", \"ScreenPorch\", \"PoolArea\",\n",
    "\"MiscVal\",\"SalePrice\"}\n",
    "\n",
    "K_DISKRIT=K_NOMINAL.union(K_ORDINAL)\n",
    "\n",
    "K_KONTINUU=K_INTERVAL.union(K_RATIO)"
   ]
  },
  {
   "cell_type": "markdown",
   "id": "cf1d516b-78bf-4f86-8ca6-fc4c2a7c9237",
   "metadata": {},
   "source": [
    "\n",
    "Pertama, kita akan melakukan [_clipping_](https://images.squarespace-cdn.com/content/v1/53721e2ce4b05f3bc92f64e3/826755fd-770f-41ae-9c5d-fed3d8eaef5a/r18b+clipping+sine+wave.png?format=1000w),\n",
    "yaitu membatasi nilai. Kita akan membatasi nomor dengan persentil ke-5 dan ke-95\n",
    "Tujuan utama dari langkah ini adalah untuk menghilangkan [_outlier_](https://www.elegantjbi.com/blog/wp-content/uploads/2018/10/what-is-outlier-analysis.jpg) \n",
    "dari data\n"
   ]
  },
  {
   "cell_type": "code",
   "execution_count": 56,
   "id": "3b50900f-685e-4f3d-8829-c95c37d789a5",
   "metadata": {
    "tags": []
   },
   "outputs": [],
   "source": [
    "df1=df0.copy()\n",
    "cols=list(K_KONTINUU)#intersection = irisan\n",
    "p05=df0[cols].quantile(0.05)\n",
    "p95=df0[cols].quantile(0.95)\n",
    "df1[cols]=df0[cols].clip(p05,p95,axis=1) #inplace=True sehingga data dirubah langsung"
   ]
  },
  {
   "cell_type": "markdown",
   "id": "e6885807-41a5-4419-a76c-04fb56cdd118",
   "metadata": {},
   "source": [
    "\n",
    "Selanjutnya, kita akan melakukan [_normalization_ dan _data scaling_](https://www.kaggle.com/code/alexisbcook/scaling-and-normalization) "
   ]
  },
  {
   "cell_type": "code",
   "execution_count": 57,
   "id": "d87e3e29-d7da-4f23-9bf8-76151a1ad929",
   "metadata": {
    "tags": []
   },
   "outputs": [
    {
     "data": {
      "text/plain": [
       "BsmtFinSF2       2.996332\n",
       "ScreenPorch      3.042480\n",
       "OpenPorchSF      1.215510\n",
       "BsmtFinSF1       0.552155\n",
       "KitchenAbvGr     0.000000\n",
       "WoodDeckSF       0.846812\n",
       "HalfBath         0.531240\n",
       "Fireplaces       0.588651\n",
       "BedroomAbvGr     0.148315\n",
       "2ndFlrSF         0.667178\n",
       "EnclosedPorch    2.371243\n",
       "PoolArea         0.000000\n",
       "LotArea          0.257184\n",
       "TotalBsmtSF      0.392386\n",
       "BsmtFullBath     0.343129\n",
       "GarageArea      -0.151513\n",
       "FullBath        -0.190749\n",
       "LotFrontage      0.095481\n",
       "3SsnPorch        0.000000\n",
       "MiscVal          0.000000\n",
       "LowQualFinSF     0.000000\n",
       "GarageCars      -0.354976\n",
       "1stFlrSF         0.500349\n",
       "TotRmsAbvGrd     0.239589\n",
       "GrLivArea        0.548978\n",
       "BsmtHalfBath     3.707631\n",
       "MasVnrArea       1.437783\n",
       "BsmtUnfSF        0.681746\n",
       "SalePrice        0.592709\n",
       "dtype: float64"
      ]
     },
     "execution_count": 57,
     "metadata": {},
     "output_type": "execute_result"
    }
   ],
   "source": [
    "skewness=df1[list(K_RATIO)].skew()\n",
    "skewness"
   ]
  },
  {
   "cell_type": "markdown",
   "id": "2bee8b0e-6a30-4d4f-a2d8-56697f8cf62a",
   "metadata": {},
   "source": [
    "Diatas adalah _skew_ yang menggambarkan berapa miring distribusi suatu kolom data.\n",
    "\n",
    "Kita akan menormalisasi data yang _skew_-nya > 0.9 (yang dapat didapatkan dengan\n",
    "`skewness[skewness>0.9]skewness[skewness>0.9]`) dengan `power_transform` \n",
    "dan sisanya dengan `RobustScaler`\n",
    "___\n",
    "\n",
    "Berikut ilustrasi _skew_"
   ]
  },
  {
   "cell_type": "code",
   "execution_count": 58,
   "id": "fb2b1f53-f5ea-4a4e-988e-e7cf09c7045a",
   "metadata": {
    "tags": []
   },
   "outputs": [
    {
     "data": {
      "text/plain": [
       "Text(0.5, 1.0, 'skew=0.5489780139542215')"
      ]
     },
     "execution_count": 58,
     "metadata": {},
     "output_type": "execute_result"
    },
    {
     "data": {
      "image/png": "[encoded data removed]",
      "text/plain": [
       "<Figure size 500x500 with 1 Axes>"
      ]
     },
     "metadata": {},
     "output_type": "display_data"
    }
   ],
   "source": [
    "sns.displot(x=df1['GrLivArea'])\n",
    "plt.title(f\"skew={skewness['GrLivArea']}\")"
   ]
  },
  {
   "cell_type": "code",
   "execution_count": 59,
   "id": "20b7d0c1-782e-4458-ab84-f021aae8fde1",
   "metadata": {
    "tags": []
   },
   "outputs": [
    {
     "data": {
      "text/plain": [
       "Text(0.5, 1.0, 'skew=3.0424800245176553')"
      ]
     },
     "execution_count": 59,
     "metadata": {},
     "output_type": "execute_result"
    },
    {
     "data": {
      "image/png": "[encoded data removed]",
      "text/plain": [
       "<Figure size 500x500 with 1 Axes>"
      ]
     },
     "metadata": {},
     "output_type": "display_data"
    }
   ],
   "source": [
    "sns.displot(x=df1['ScreenPorch'])\n",
    "plt.title(f\"skew={skewness['ScreenPorch']}\")"
   ]
  },
  {
   "cell_type": "code",
   "execution_count": 60,
   "id": "194b7060-46d9-4a57-8580-48df1333335a",
   "metadata": {
    "tags": []
   },
   "outputs": [
    {
     "data": {
      "text/plain": [
       "Text(0.5, 1.0, 'skew=-0.19074942387508462')"
      ]
     },
     "execution_count": 60,
     "metadata": {},
     "output_type": "execute_result"
    },
    {
     "data": {
      "image/png": "[encoded data removed]",
      "text/plain": [
       "<Figure size 500x500 with 1 Axes>"
      ]
     },
     "metadata": {},
     "output_type": "display_data"
    }
   ],
   "source": [
    "sns.displot(x=df1['FullBath'])\n",
    "plt.title(f\"skew={skewness['FullBath']}\")"
   ]
  },
  {
   "cell_type": "markdown",
   "id": "e6c626e6-f54c-4ba6-bc52-fbe891efe35d",
   "metadata": {},
   "source": [
    "Untuk normalisasi, kita gunakan `power_transform` tanpa alasan kuat [(metode lain ada)](https://www.geeksforgeeks.org/data-normalization-in-data-mining/)"
   ]
  },
  {
   "cell_type": "code",
   "execution_count": 61,
   "id": "4467d999-6c42-441e-a65d-1e4e8ee795b2",
   "metadata": {
    "tags": []
   },
   "outputs": [],
   "source": [
    "from sklearn.preprocessing import PowerTransformer"
   ]
  },
  {
   "cell_type": "code",
   "execution_count": 62,
   "id": "1feecd72-c8f8-410c-a1e4-b47769393eda",
   "metadata": {
    "tags": []
   },
   "outputs": [],
   "source": [
    "transformer=PowerTransformer()"
   ]
  },
  {
   "cell_type": "code",
   "execution_count": 63,
   "id": "e78042a1-69c6-4534-803a-aab355c0ccf2",
   "metadata": {
    "tags": []
   },
   "outputs": [],
   "source": [
    "df2=df1.copy()\n",
    "df2[skewness[skewness>0.9].index]=transformer.fit_transform(df1[skewness[skewness>0.9].index])"
   ]
  },
  {
   "cell_type": "markdown",
   "id": "c2a4732a-26b9-4787-afa0-22d815b8c047",
   "metadata": {
    "tags": []
   },
   "source": [
    "Untuk sisa datanya, kita akan gunakan `RobustScaler` untuk _data scaling_"
   ]
  },
  {
   "cell_type": "code",
   "execution_count": 64,
   "id": "b9925c46-1124-436e-822f-d08fb3b76da4",
   "metadata": {
    "tags": []
   },
   "outputs": [],
   "source": [
    "from sklearn.preprocessing import RobustScaler"
   ]
  },
  {
   "cell_type": "code",
   "execution_count": 65,
   "id": "fdc1b267-5c8a-4e00-bd67-4d75d5a8887b",
   "metadata": {
    "tags": []
   },
   "outputs": [],
   "source": [
    "scaler=RobustScaler()"
   ]
  },
  {
   "cell_type": "code",
   "execution_count": 66,
   "id": "79ca7072-0584-4409-bf95-b3c90b94d5de",
   "metadata": {
    "tags": []
   },
   "outputs": [],
   "source": [
    "scaled=scaler.fit_transform(df2[list(K_KONTINUU)])"
   ]
  },
  {
   "cell_type": "code",
   "execution_count": 67,
   "id": "54af24e5-ce4e-4695-b68a-3d933bdfee89",
   "metadata": {
    "tags": []
   },
   "outputs": [],
   "source": [
    "df3=df2.copy()\n",
    "df3[list(K_KONTINUU)]=pd.DataFrame(scaled,columns=scaler.get_feature_names_out())"
   ]
  },
  {
   "cell_type": "markdown",
   "id": "45161fe8-eef3-413a-b268-9b9b8ea63187",
   "metadata": {
    "tags": []
   },
   "source": [
    "Sekarang, kita akan mengurusi data yang hilang. Mari kita cek tingkat data `NaN` per kolum"
   ]
  },
  {
   "cell_type": "code",
   "execution_count": 68,
   "id": "6a8a3a76-1ebe-444c-ae29-8722229b4ff5",
   "metadata": {
    "tags": []
   },
   "outputs": [
    {
     "data": {
      "text/plain": [
       "MSZoning        0.001370\n",
       "LotFrontage     0.166495\n",
       "Alley           0.932169\n",
       "Utilities       0.000685\n",
       "Exterior1st     0.000343\n",
       "Exterior2nd     0.000343\n",
       "MasVnrType      0.008222\n",
       "MasVnrArea      0.007879\n",
       "BsmtQual        0.027749\n",
       "BsmtCond        0.028092\n",
       "BsmtExposure    0.028092\n",
       "BsmtFinType1    0.027064\n",
       "BsmtFinSF1      0.000343\n",
       "BsmtFinType2    0.027407\n",
       "BsmtFinSF2      0.000343\n",
       "BsmtUnfSF       0.000343\n",
       "TotalBsmtSF     0.000343\n",
       "Electrical      0.000343\n",
       "BsmtFullBath    0.000685\n",
       "BsmtHalfBath    0.000685\n",
       "KitchenQual     0.000343\n",
       "Functional      0.000685\n",
       "FireplaceQu     0.486468\n",
       "GarageType      0.053786\n",
       "GarageYrBlt     0.054471\n",
       "GarageFinish    0.054471\n",
       "GarageCars      0.000343\n",
       "GarageArea      0.000343\n",
       "GarageQual      0.054471\n",
       "GarageCond      0.054471\n",
       "PoolQC          0.996574\n",
       "Fence           0.804385\n",
       "MiscFeature     0.964029\n",
       "SaleType        0.000343\n",
       "dtype: float64"
      ]
     },
     "execution_count": 68,
     "metadata": {},
     "output_type": "execute_result"
    }
   ],
   "source": [
    "df3.isna().mean()[df3.isna().mean()>0]"
   ]
  },
  {
   "cell_type": "markdown",
   "id": "cb7313d5-0fba-4ac6-a8f3-66982d54d199",
   "metadata": {},
   "source": [
    "Ada beberapa cara mengatasi data hilang:\n",
    "\n",
    "- Jika terlalu banyak kehilangan, delete kolum\n",
    "- Jika sedikit kehilangan, delete baris atau isi baris dengan mean, median, modus, atau [metode lain](https://www.phind.com/search?cache=1167f358-803a-4557-9a44-685850529ad3)\n",
    "\n",
    "___\n",
    "\n",
    "Untuk data dengan tingkat kehilangan >0.4, akan kita drop kolum.\n",
    "Untuk sisanya, akan kita tukar nilai hilang dengan mean, median, dan modus jika data tersebut kontinuu. Jika tidak konotinuu, kita delete baris"
   ]
  },
  {
   "cell_type": "code",
   "execution_count": 69,
   "id": "29afbcf2-ac6c-4930-a8d9-71711dd1e45f",
   "metadata": {
    "tags": []
   },
   "outputs": [
    {
     "data": {
      "text/plain": [
       "Alley          0.932169\n",
       "FireplaceQu    0.486468\n",
       "PoolQC         0.996574\n",
       "Fence          0.804385\n",
       "MiscFeature    0.964029\n",
       "dtype: float64"
      ]
     },
     "execution_count": 69,
     "metadata": {},
     "output_type": "execute_result"
    }
   ],
   "source": [
    "drop_cols=df3.isna().mean()[df3.isna().mean()>0.4]\n",
    "drop_cols"
   ]
  },
  {
   "cell_type": "code",
   "execution_count": 70,
   "id": "6202a6c0-092a-4303-84fc-70adec332256",
   "metadata": {
    "tags": []
   },
   "outputs": [],
   "source": [
    "df4=df3.drop(columns=drop_cols.index)"
   ]
  },
  {
   "cell_type": "code",
   "execution_count": 71,
   "id": "d6bebab9-d9b8-4f1e-b8eb-a0cff670edd4",
   "metadata": {
    "tags": []
   },
   "outputs": [
    {
     "data": {
      "text/plain": [
       "MSZoning        0.001370\n",
       "LotFrontage     0.166495\n",
       "Utilities       0.000685\n",
       "Exterior1st     0.000343\n",
       "Exterior2nd     0.000343\n",
       "MasVnrType      0.008222\n",
       "MasVnrArea      0.007879\n",
       "BsmtQual        0.027749\n",
       "BsmtCond        0.028092\n",
       "BsmtExposure    0.028092\n",
       "BsmtFinType1    0.027064\n",
       "BsmtFinSF1      0.000343\n",
       "BsmtFinType2    0.027407\n",
       "BsmtFinSF2      0.000343\n",
       "BsmtUnfSF       0.000343\n",
       "TotalBsmtSF     0.000343\n",
       "Electrical      0.000343\n",
       "BsmtFullBath    0.000685\n",
       "BsmtHalfBath    0.000685\n",
       "KitchenQual     0.000343\n",
       "Functional      0.000685\n",
       "GarageType      0.053786\n",
       "GarageYrBlt     0.054471\n",
       "GarageFinish    0.054471\n",
       "GarageCars      0.000343\n",
       "GarageArea      0.000343\n",
       "GarageQual      0.054471\n",
       "GarageCond      0.054471\n",
       "SaleType        0.000343\n",
       "dtype: float64"
      ]
     },
     "execution_count": 71,
     "metadata": {},
     "output_type": "execute_result"
    }
   ],
   "source": [
    "remaining=df4.isna().mean()[df4.isna().mean()>0]\n",
    "remaining"
   ]
  },
  {
   "cell_type": "markdown",
   "id": "aaedee74-57d9-4993-a11e-0a0ac6e15647",
   "metadata": {
    "tags": []
   },
   "source": [
    "diatas informasi rata-rata data hilang: 16.6% dari baris pada kolum `LotFrontage` kosong, dst.\n",
    "\n",
    "`remaining` adalah kolum-kolum yang memiliki baris kosong/data hilang"
   ]
  },
  {
   "cell_type": "markdown",
   "id": "b62172ac-a6e9-43db-840b-202e90d30da8",
   "metadata": {},
   "source": [
    "Kita akan lakukan imputasi yaitu mengisi data yang kosong dengan mean, median, modus atau lainnya\n",
    "\n",
    "Kita isi data kosong dengan modus, jika diskrit.\n",
    "\n",
    "Kita isi data kosong dengan mean, jika kontinuu.\n",
    "\n",
    "___\n",
    "\n",
    "Sebelum lakukan imputasi pada data diskrit, kita harus merubah data teks menjadi data numerik dengan `LabelEncoder`"
   ]
  },
  {
   "cell_type": "code",
   "execution_count": 72,
   "id": "d98c8061-d3a3-4e21-ac9b-bc5926518bf9",
   "metadata": {
    "tags": []
   },
   "outputs": [],
   "source": [
    "from sklearn.impute import SimpleImputer\n",
    "from sklearn.compose import make_column_transformer\n",
    "from sklearn.preprocessing import LabelEncoder"
   ]
  },
  {
   "cell_type": "code",
   "execution_count": 73,
   "id": "2cee310c-a08b-4d2e-8cca-75ce738e92e4",
   "metadata": {
    "tags": []
   },
   "outputs": [],
   "source": [
    "class MultiColumnLabelEncoder:\n",
    "    def __init__(self,columns):\n",
    "        self.columns = columns # list\n",
    "        self.encoders = [LabelEncoder() for _ in self.columns]\n",
    "\n",
    "    def fit(self,X):\n",
    "        output = X.copy()\n",
    "        for enc, col in zip(self.encoders, self.columns):\n",
    "            output[col] = enc.fit(output[col])\n",
    "            if len(list(set(enc.classes_)&{np.nan}))==0:\n",
    "                enc.classes_ = np.append(enc.classes_,np.nan)\n",
    "        return self\n",
    "\n",
    "    def transform(self,X):\n",
    "        output = X.copy()\n",
    "        for enc, col in zip(self.encoders, self.columns):\n",
    "            err=True\n",
    "            while err:\n",
    "                try:\n",
    "                    output[col] = enc.transform(output[col])\n",
    "                    err=False\n",
    "                except:\n",
    "                    enc.classes_=np.append(\n",
    "                        enc.classes_,\n",
    "                        *(set(output[col].unique())-set(enc.classes_))\n",
    "                    )\n",
    "        return output\n",
    "    \n",
    "    def inverse_transform(self, X):# X: np.array[n_sample, n_classes]\n",
    "        ret = []\n",
    "        for enc,x in zip(self.encoders,X.T):\n",
    "            ret.append(enc.inverse_transform(x.astype(int)))\n",
    "        return np.array(ret).T\n",
    "    \n",
    "    def fit_transform(self,X):\n",
    "        return self.fit(X).transform(X)\n",
    "    \n",
    "    "
   ]
  },
  {
   "cell_type": "code",
   "execution_count": 76,
   "id": "6d5a4dc4-6bf8-42e4-95a4-944c9dc8d9b4",
   "metadata": {
    "tags": []
   },
   "outputs": [],
   "source": [
    "diskrit_imputer = SimpleImputer(fill_value='mode',add_indicator=True)\n",
    "kontinuu_imputer = SimpleImputer(fill_value='mean')\n",
    "label_encoder = MultiColumnLabelEncoder(columns=list(K_DISKRIT.intersection(df4.columns)))"
   ]
  },
  {
   "cell_type": "code",
   "execution_count": 77,
   "id": "3a6e9e2a-3fe2-4b77-a3e9-c3859c5da621",
   "metadata": {
    "tags": []
   },
   "outputs": [
    {
     "data": {
      "text/plain": [
       "array([['Reg', 'Typ', 5.0, ..., 'CollgCr', 'RL', 'Inside'],\n",
       "       ['Reg', 'Typ', 8.0, ..., 'Veenker', 'RL', 'FR2'],\n",
       "       ['IR1', 'Typ', 5.0, ..., 'CollgCr', 'RL', 'Inside'],\n",
       "       ...,\n",
       "       ['Reg', 'Typ', 7.0, ..., 'Mitchel', 'RL', 'Inside'],\n",
       "       ['Reg', 'Typ', 5.0, ..., 'Mitchel', 'RL', 'Inside'],\n",
       "       ['Reg', 'Typ', 5.0, ..., 'Mitchel', 'RL', 'Inside']], dtype=object)"
      ]
     },
     "execution_count": 77,
     "metadata": {},
     "output_type": "execute_result"
    }
   ],
   "source": [
    "label_encoded = label_encoder.fit_transform(df4[list(K_DISKRIT.intersection(df4.columns))])\n",
    "hasil_imputasi_diskrit_=diskrit_imputer.fit_transform(label_encoded)\n",
    "hasil_imputasi_diskrit=label_encoder.inverse_transform(hasil_imputasi_diskrit_)\n",
    "hasil_imputasi_diskrit"
   ]
  },
  {
   "cell_type": "code",
   "execution_count": 79,
   "id": "f1d816fb-d973-45ed-b4a1-2b5c649a7f23",
   "metadata": {
    "tags": []
   },
   "outputs": [
    {
     "data": {
      "text/plain": [
       "array([[ 0.        ,  0.        ,  0.46043656, ...,  1.        ,\n",
       "         0.43076923,  1.53889307],\n",
       "       [ 0.        ,  0.        ,  0.83151432, ...,  0.        ,\n",
       "        -0.29473684,  0.03229718],\n",
       "       [ 0.        ,  0.        ,  0.16030014, ...,  0.        ,\n",
       "         0.55384615,  2.37589078],\n",
       "       ...,\n",
       "       [ 0.        ,  0.        ,  1.16712142, ...,  0.5       ,\n",
       "        -0.3562753 ,  0.        ],\n",
       "       [ 0.        ,  0.        , -0.04297408, ...,  0.        ,\n",
       "        -0.76761134,  0.        ],\n",
       "       [ 0.        ,  0.        ,  0.5313779 , ...,  1.5       ,\n",
       "         0.90040486,  0.        ]])"
      ]
     },
     "execution_count": 79,
     "metadata": {},
     "output_type": "execute_result"
    }
   ],
   "source": [
    "hasil_imputasi_kontinuu=kontinuu_imputer.fit_transform(df4[list(K_KONTINUU.intersection(df4.columns))])\n",
    "hasil_imputasi_kontinuu"
   ]
  },
  {
   "cell_type": "code",
   "execution_count": 80,
   "id": "a40f8c45-2b2f-4228-ae07-7770a7216a84",
   "metadata": {
    "tags": []
   },
   "outputs": [],
   "source": [
    "df5=df4.copy()\n",
    "df5[list(K_DISKRIT.intersection(df5.columns))]=hasil_imputasi_diskrit\n",
    "df5[list(K_KONTINUU.intersection(df5.columns))]=hasil_imputasi_kontinuu\n",
    "df5.index=range(len(df5.index))"
   ]
  },
  {
   "cell_type": "code",
   "execution_count": 81,
   "id": "480fd5cd-fb69-4778-8128-c1da3f463613",
   "metadata": {
    "tags": []
   },
   "outputs": [
    {
     "data": {
      "text/html": [
       "<div>\n",
       "<style scoped>\n",
       "    .dataframe tbody tr th:only-of-type {\n",
       "        vertical-align: middle;\n",
       "    }\n",
       "\n",
       "    .dataframe tbody tr th {\n",
       "        vertical-align: top;\n",
       "    }\n",
       "\n",
       "    .dataframe thead th {\n",
       "        text-align: right;\n",
       "    }\n",
       "</style>\n",
       "<table border=\"1\" class=\"dataframe\">\n",
       "  <thead>\n",
       "    <tr style=\"text-align: right;\">\n",
       "      <th></th>\n",
       "      <th>Id</th>\n",
       "      <th>MSSubClass</th>\n",
       "      <th>MSZoning</th>\n",
       "      <th>LotFrontage</th>\n",
       "      <th>LotArea</th>\n",
       "      <th>Street</th>\n",
       "      <th>LotShape</th>\n",
       "      <th>LandContour</th>\n",
       "      <th>Utilities</th>\n",
       "      <th>LotConfig</th>\n",
       "      <th>...</th>\n",
       "      <th>EnclosedPorch</th>\n",
       "      <th>3SsnPorch</th>\n",
       "      <th>ScreenPorch</th>\n",
       "      <th>PoolArea</th>\n",
       "      <th>MiscVal</th>\n",
       "      <th>MoSold</th>\n",
       "      <th>YrSold</th>\n",
       "      <th>SaleType</th>\n",
       "      <th>SaleCondition</th>\n",
       "      <th>SalePrice</th>\n",
       "    </tr>\n",
       "  </thead>\n",
       "  <tbody>\n",
       "    <tr>\n",
       "      <th>0</th>\n",
       "      <td>1</td>\n",
       "      <td>60.0</td>\n",
       "      <td>RL</td>\n",
       "      <td>-0.142857</td>\n",
       "      <td>-0.245112</td>\n",
       "      <td>Pave</td>\n",
       "      <td>Reg</td>\n",
       "      <td>Lvl</td>\n",
       "      <td>AllPub</td>\n",
       "      <td>Inside</td>\n",
       "      <td>...</td>\n",
       "      <td>0.0000</td>\n",
       "      <td>0.0</td>\n",
       "      <td>0.0</td>\n",
       "      <td>0.0</td>\n",
       "      <td>0.0</td>\n",
       "      <td>2.0</td>\n",
       "      <td>2008.0</td>\n",
       "      <td>WD</td>\n",
       "      <td>Normal</td>\n",
       "      <td>1.538893</td>\n",
       "    </tr>\n",
       "    <tr>\n",
       "      <th>1</th>\n",
       "      <td>2</td>\n",
       "      <td>20.0</td>\n",
       "      <td>RL</td>\n",
       "      <td>0.571429</td>\n",
       "      <td>0.035924</td>\n",
       "      <td>Pave</td>\n",
       "      <td>Reg</td>\n",
       "      <td>Lvl</td>\n",
       "      <td>AllPub</td>\n",
       "      <td>FR2</td>\n",
       "      <td>...</td>\n",
       "      <td>0.0000</td>\n",
       "      <td>0.0</td>\n",
       "      <td>0.0</td>\n",
       "      <td>0.0</td>\n",
       "      <td>0.0</td>\n",
       "      <td>5.0</td>\n",
       "      <td>2007.0</td>\n",
       "      <td>WD</td>\n",
       "      <td>Normal</td>\n",
       "      <td>0.032297</td>\n",
       "    </tr>\n",
       "    <tr>\n",
       "      <th>2</th>\n",
       "      <td>3</td>\n",
       "      <td>60.0</td>\n",
       "      <td>RL</td>\n",
       "      <td>0.000000</td>\n",
       "      <td>0.439150</td>\n",
       "      <td>Pave</td>\n",
       "      <td>IR1</td>\n",
       "      <td>Lvl</td>\n",
       "      <td>AllPub</td>\n",
       "      <td>Inside</td>\n",
       "      <td>...</td>\n",
       "      <td>0.0000</td>\n",
       "      <td>0.0</td>\n",
       "      <td>0.0</td>\n",
       "      <td>0.0</td>\n",
       "      <td>0.0</td>\n",
       "      <td>9.0</td>\n",
       "      <td>2008.0</td>\n",
       "      <td>WD</td>\n",
       "      <td>Normal</td>\n",
       "      <td>2.375891</td>\n",
       "    </tr>\n",
       "    <tr>\n",
       "      <th>3</th>\n",
       "      <td>4</td>\n",
       "      <td>70.0</td>\n",
       "      <td>RL</td>\n",
       "      <td>-0.380952</td>\n",
       "      <td>0.023705</td>\n",
       "      <td>Pave</td>\n",
       "      <td>IR1</td>\n",
       "      <td>Lvl</td>\n",
       "      <td>AllPub</td>\n",
       "      <td>Corner</td>\n",
       "      <td>...</td>\n",
       "      <td>2.7514</td>\n",
       "      <td>0.0</td>\n",
       "      <td>0.0</td>\n",
       "      <td>0.0</td>\n",
       "      <td>0.0</td>\n",
       "      <td>2.0</td>\n",
       "      <td>2006.0</td>\n",
       "      <td>WD</td>\n",
       "      <td>Abnorml</td>\n",
       "      <td>-2.283396</td>\n",
       "    </tr>\n",
       "    <tr>\n",
       "      <th>4</th>\n",
       "      <td>5</td>\n",
       "      <td>60.0</td>\n",
       "      <td>RL</td>\n",
       "      <td>0.761905</td>\n",
       "      <td>1.174731</td>\n",
       "      <td>Pave</td>\n",
       "      <td>IR1</td>\n",
       "      <td>Lvl</td>\n",
       "      <td>AllPub</td>\n",
       "      <td>FR2</td>\n",
       "      <td>...</td>\n",
       "      <td>0.0000</td>\n",
       "      <td>0.0</td>\n",
       "      <td>0.0</td>\n",
       "      <td>0.0</td>\n",
       "      <td>0.0</td>\n",
       "      <td>12.0</td>\n",
       "      <td>2008.0</td>\n",
       "      <td>WD</td>\n",
       "      <td>Normal</td>\n",
       "      <td>3.854587</td>\n",
       "    </tr>\n",
       "  </tbody>\n",
       "</table>\n",
       "<p>5 rows × 76 columns</p>\n",
       "</div>"
      ],
      "text/plain": [
       "   Id MSSubClass MSZoning  LotFrontage   LotArea Street LotShape LandContour  \\\n",
       "0   1       60.0       RL    -0.142857 -0.245112   Pave      Reg         Lvl   \n",
       "1   2       20.0       RL     0.571429  0.035924   Pave      Reg         Lvl   \n",
       "2   3       60.0       RL     0.000000  0.439150   Pave      IR1         Lvl   \n",
       "3   4       70.0       RL    -0.380952  0.023705   Pave      IR1         Lvl   \n",
       "4   5       60.0       RL     0.761905  1.174731   Pave      IR1         Lvl   \n",
       "\n",
       "  Utilities LotConfig  ... EnclosedPorch 3SsnPorch ScreenPorch PoolArea  \\\n",
       "0    AllPub    Inside  ...        0.0000       0.0         0.0      0.0   \n",
       "1    AllPub       FR2  ...        0.0000       0.0         0.0      0.0   \n",
       "2    AllPub    Inside  ...        0.0000       0.0         0.0      0.0   \n",
       "3    AllPub    Corner  ...        2.7514       0.0         0.0      0.0   \n",
       "4    AllPub       FR2  ...        0.0000       0.0         0.0      0.0   \n",
       "\n",
       "  MiscVal MoSold  YrSold SaleType  SaleCondition  SalePrice  \n",
       "0     0.0    2.0  2008.0       WD         Normal   1.538893  \n",
       "1     0.0    5.0  2007.0       WD         Normal   0.032297  \n",
       "2     0.0    9.0  2008.0       WD         Normal   2.375891  \n",
       "3     0.0    2.0  2006.0       WD        Abnorml  -2.283396  \n",
       "4     0.0   12.0  2008.0       WD         Normal   3.854587  \n",
       "\n",
       "[5 rows x 76 columns]"
      ]
     },
     "execution_count": 81,
     "metadata": {},
     "output_type": "execute_result"
    }
   ],
   "source": [
    "df5.head()"
   ]
  },
  {
   "cell_type": "markdown",
   "id": "eac0d520-26e5-4f60-be08-cf98937b67d6",
   "metadata": {},
   "source": [
    "Sekarang tidak ada data yang hilang, namun masih terdapat data dalam bentuk `string` atau teks.\n",
    "\n",
    "Kita harus merubah data tersebut menjadi nomor sehingga dapat dimengerti oleh algoritma. \n",
    "Proses ini namanya _encoding_. \n",
    "___\n",
    "Walaupun sebelumnya kita telah melakukan _encoding_ menggunakan `LabelEncoder`, [metode tersebut tidak terlalu efektif untuk digunakan dalam prediksi (biasanya)](https://www.phind.com/search?cache=ff577c0f-5713-4863-ba16-71e02fa2579f)"
   ]
  },
  {
   "cell_type": "markdown",
   "id": "291c1594-d6c2-4cb2-95df-dd98af9a422d",
   "metadata": {},
   "source": [
    "Untuk encoding, kita menggunakan [One-Hot Encoding](https://datagy.io/wp-content/uploads/2022/01/One-Hot-Encoding-for-Scikit-Learn-in-Python-Explained-1024x576.png)"
   ]
  },
  {
   "cell_type": "code",
   "execution_count": 82,
   "id": "f13aff47-8f9b-4133-ae88-585e0e34e2fb",
   "metadata": {
    "tags": []
   },
   "outputs": [],
   "source": [
    "from sklearn.preprocessing import OneHotEncoder"
   ]
  },
  {
   "cell_type": "code",
   "execution_count": 83,
   "id": "f5c9d65f-9926-4542-aee7-b1570f1c22fd",
   "metadata": {
    "tags": []
   },
   "outputs": [],
   "source": [
    "encoder=OneHotEncoder()"
   ]
  },
  {
   "cell_type": "code",
   "execution_count": 84,
   "id": "cfd5086c-bc09-43a2-967c-a3bfae364068",
   "metadata": {
    "tags": []
   },
   "outputs": [
    {
     "data": {
      "text/html": [
       "<div>\n",
       "<style scoped>\n",
       "    .dataframe tbody tr th:only-of-type {\n",
       "        vertical-align: middle;\n",
       "    }\n",
       "\n",
       "    .dataframe tbody tr th {\n",
       "        vertical-align: top;\n",
       "    }\n",
       "\n",
       "    .dataframe thead th {\n",
       "        text-align: right;\n",
       "    }\n",
       "</style>\n",
       "<table border=\"1\" class=\"dataframe\">\n",
       "  <thead>\n",
       "    <tr style=\"text-align: right;\">\n",
       "      <th></th>\n",
       "      <th>LotShape_IR1</th>\n",
       "      <th>LotShape_IR2</th>\n",
       "      <th>LotShape_IR3</th>\n",
       "      <th>LotShape_Reg</th>\n",
       "      <th>Functional_Maj1</th>\n",
       "      <th>Functional_Maj2</th>\n",
       "      <th>Functional_Min1</th>\n",
       "      <th>Functional_Min2</th>\n",
       "      <th>Functional_Mod</th>\n",
       "      <th>Functional_Sev</th>\n",
       "      <th>...</th>\n",
       "      <th>MSZoning_FV</th>\n",
       "      <th>MSZoning_RH</th>\n",
       "      <th>MSZoning_RL</th>\n",
       "      <th>MSZoning_RM</th>\n",
       "      <th>MSZoning_nan</th>\n",
       "      <th>LotConfig_Corner</th>\n",
       "      <th>LotConfig_CulDSac</th>\n",
       "      <th>LotConfig_FR2</th>\n",
       "      <th>LotConfig_FR3</th>\n",
       "      <th>LotConfig_Inside</th>\n",
       "    </tr>\n",
       "  </thead>\n",
       "  <tbody>\n",
       "    <tr>\n",
       "      <th>0</th>\n",
       "      <td>0.0</td>\n",
       "      <td>0.0</td>\n",
       "      <td>0.0</td>\n",
       "      <td>1.0</td>\n",
       "      <td>0.0</td>\n",
       "      <td>0.0</td>\n",
       "      <td>0.0</td>\n",
       "      <td>0.0</td>\n",
       "      <td>0.0</td>\n",
       "      <td>0.0</td>\n",
       "      <td>...</td>\n",
       "      <td>0.0</td>\n",
       "      <td>0.0</td>\n",
       "      <td>1.0</td>\n",
       "      <td>0.0</td>\n",
       "      <td>0.0</td>\n",
       "      <td>0.0</td>\n",
       "      <td>0.0</td>\n",
       "      <td>0.0</td>\n",
       "      <td>0.0</td>\n",
       "      <td>1.0</td>\n",
       "    </tr>\n",
       "    <tr>\n",
       "      <th>1</th>\n",
       "      <td>0.0</td>\n",
       "      <td>0.0</td>\n",
       "      <td>0.0</td>\n",
       "      <td>1.0</td>\n",
       "      <td>0.0</td>\n",
       "      <td>0.0</td>\n",
       "      <td>0.0</td>\n",
       "      <td>0.0</td>\n",
       "      <td>0.0</td>\n",
       "      <td>0.0</td>\n",
       "      <td>...</td>\n",
       "      <td>0.0</td>\n",
       "      <td>0.0</td>\n",
       "      <td>1.0</td>\n",
       "      <td>0.0</td>\n",
       "      <td>0.0</td>\n",
       "      <td>0.0</td>\n",
       "      <td>0.0</td>\n",
       "      <td>1.0</td>\n",
       "      <td>0.0</td>\n",
       "      <td>0.0</td>\n",
       "    </tr>\n",
       "    <tr>\n",
       "      <th>2</th>\n",
       "      <td>1.0</td>\n",
       "      <td>0.0</td>\n",
       "      <td>0.0</td>\n",
       "      <td>0.0</td>\n",
       "      <td>0.0</td>\n",
       "      <td>0.0</td>\n",
       "      <td>0.0</td>\n",
       "      <td>0.0</td>\n",
       "      <td>0.0</td>\n",
       "      <td>0.0</td>\n",
       "      <td>...</td>\n",
       "      <td>0.0</td>\n",
       "      <td>0.0</td>\n",
       "      <td>1.0</td>\n",
       "      <td>0.0</td>\n",
       "      <td>0.0</td>\n",
       "      <td>0.0</td>\n",
       "      <td>0.0</td>\n",
       "      <td>0.0</td>\n",
       "      <td>0.0</td>\n",
       "      <td>1.0</td>\n",
       "    </tr>\n",
       "    <tr>\n",
       "      <th>3</th>\n",
       "      <td>1.0</td>\n",
       "      <td>0.0</td>\n",
       "      <td>0.0</td>\n",
       "      <td>0.0</td>\n",
       "      <td>0.0</td>\n",
       "      <td>0.0</td>\n",
       "      <td>0.0</td>\n",
       "      <td>0.0</td>\n",
       "      <td>0.0</td>\n",
       "      <td>0.0</td>\n",
       "      <td>...</td>\n",
       "      <td>0.0</td>\n",
       "      <td>0.0</td>\n",
       "      <td>1.0</td>\n",
       "      <td>0.0</td>\n",
       "      <td>0.0</td>\n",
       "      <td>1.0</td>\n",
       "      <td>0.0</td>\n",
       "      <td>0.0</td>\n",
       "      <td>0.0</td>\n",
       "      <td>0.0</td>\n",
       "    </tr>\n",
       "    <tr>\n",
       "      <th>4</th>\n",
       "      <td>1.0</td>\n",
       "      <td>0.0</td>\n",
       "      <td>0.0</td>\n",
       "      <td>0.0</td>\n",
       "      <td>0.0</td>\n",
       "      <td>0.0</td>\n",
       "      <td>0.0</td>\n",
       "      <td>0.0</td>\n",
       "      <td>0.0</td>\n",
       "      <td>0.0</td>\n",
       "      <td>...</td>\n",
       "      <td>0.0</td>\n",
       "      <td>0.0</td>\n",
       "      <td>1.0</td>\n",
       "      <td>0.0</td>\n",
       "      <td>0.0</td>\n",
       "      <td>0.0</td>\n",
       "      <td>0.0</td>\n",
       "      <td>1.0</td>\n",
       "      <td>0.0</td>\n",
       "      <td>0.0</td>\n",
       "    </tr>\n",
       "  </tbody>\n",
       "</table>\n",
       "<p>5 rows × 304 columns</p>\n",
       "</div>"
      ],
      "text/plain": [
       "   LotShape_IR1  LotShape_IR2  LotShape_IR3  LotShape_Reg  Functional_Maj1  \\\n",
       "0           0.0           0.0           0.0           1.0              0.0   \n",
       "1           0.0           0.0           0.0           1.0              0.0   \n",
       "2           1.0           0.0           0.0           0.0              0.0   \n",
       "3           1.0           0.0           0.0           0.0              0.0   \n",
       "4           1.0           0.0           0.0           0.0              0.0   \n",
       "\n",
       "   Functional_Maj2  Functional_Min1  Functional_Min2  Functional_Mod  \\\n",
       "0              0.0              0.0              0.0             0.0   \n",
       "1              0.0              0.0              0.0             0.0   \n",
       "2              0.0              0.0              0.0             0.0   \n",
       "3              0.0              0.0              0.0             0.0   \n",
       "4              0.0              0.0              0.0             0.0   \n",
       "\n",
       "   Functional_Sev  ...  MSZoning_FV  MSZoning_RH  MSZoning_RL  MSZoning_RM  \\\n",
       "0             0.0  ...          0.0          0.0          1.0          0.0   \n",
       "1             0.0  ...          0.0          0.0          1.0          0.0   \n",
       "2             0.0  ...          0.0          0.0          1.0          0.0   \n",
       "3             0.0  ...          0.0          0.0          1.0          0.0   \n",
       "4             0.0  ...          0.0          0.0          1.0          0.0   \n",
       "\n",
       "   MSZoning_nan  LotConfig_Corner  LotConfig_CulDSac  LotConfig_FR2  \\\n",
       "0           0.0               0.0                0.0            0.0   \n",
       "1           0.0               0.0                0.0            1.0   \n",
       "2           0.0               0.0                0.0            0.0   \n",
       "3           0.0               1.0                0.0            0.0   \n",
       "4           0.0               0.0                0.0            1.0   \n",
       "\n",
       "   LotConfig_FR3  LotConfig_Inside  \n",
       "0            0.0               1.0  \n",
       "1            0.0               0.0  \n",
       "2            0.0               1.0  \n",
       "3            0.0               0.0  \n",
       "4            0.0               0.0  \n",
       "\n",
       "[5 rows x 304 columns]"
      ]
     },
     "execution_count": 84,
     "metadata": {},
     "output_type": "execute_result"
    }
   ],
   "source": [
    "encoded_sparse=encoder.fit_transform(df5[list(K_DISKRIT.intersection(df5.columns))])\n",
    "#sparse adalah tipe. kita harus rubah tipe sparse jadi matrix (numpy) menggunakan .toarray()\n",
    "#encoder.get_feature_names_out() => dapatkan nama label\n",
    "\n",
    "encoded=pd.DataFrame(encoded_sparse.toarray(),columns=encoder.get_feature_names_out())\n",
    "encoded.head()"
   ]
  },
  {
   "cell_type": "code",
   "execution_count": 110,
   "id": "2e32062f-4fc7-48af-9536-10cb56818344",
   "metadata": {
    "tags": []
   },
   "outputs": [],
   "source": [
    "df6=pd.concat([\n",
    "    df5[list(K_RATIO)].copy(),\n",
    "    encoded\n",
    "],axis=1)"
   ]
  },
  {
   "cell_type": "markdown",
   "id": "90f254b3-f335-4423-8469-0a2c60955980",
   "metadata": {
    "tags": []
   },
   "source": [
    "Mari kita lihat korelasi dengan variabel y (`SalePrice`)"
   ]
  },
  {
   "cell_type": "code",
   "execution_count": 144,
   "id": "442bf49f-6e0d-4aae-afc9-efcb5836efbb",
   "metadata": {
    "tags": []
   },
   "outputs": [
    {
     "data": {
      "text/plain": [
       "OpenPorchSF             0.484417\n",
       "BsmtFinSF1              0.342380\n",
       "WoodDeckSF              0.343476\n",
       "HalfBath                0.316676\n",
       "Fireplaces              0.489026\n",
       "                          ...   \n",
       "Neighborhood_StoneBr    0.177611\n",
       "Neighborhood_Timber     0.158682\n",
       "MSZoning_RL             0.266251\n",
       "MSZoning_RM            -0.337794\n",
       "LotConfig_CulDSac       0.149747\n",
       "Name: SalePrice, Length: 112, dtype: float64"
      ]
     },
     "execution_count": 144,
     "metadata": {},
     "output_type": "execute_result"
    }
   ],
   "source": [
    "corr10p=df6.iloc[:len(train)].corr()['SalePrice'][df6.corr()['SalePrice'].abs()>0.1]#korelasi yang >0.4 atau <-0.4\n",
    "corr10p"
   ]
  },
  {
   "cell_type": "code",
   "execution_count": 145,
   "id": "b92b37e3-4af8-472e-908d-cfca7a34e7be",
   "metadata": {
    "tags": []
   },
   "outputs": [
    {
     "data": {
      "text/html": [
       "<div>\n",
       "<style scoped>\n",
       "    .dataframe tbody tr th:only-of-type {\n",
       "        vertical-align: middle;\n",
       "    }\n",
       "\n",
       "    .dataframe tbody tr th {\n",
       "        vertical-align: top;\n",
       "    }\n",
       "\n",
       "    .dataframe thead th {\n",
       "        text-align: right;\n",
       "    }\n",
       "</style>\n",
       "<table border=\"1\" class=\"dataframe\">\n",
       "  <thead>\n",
       "    <tr style=\"text-align: right;\">\n",
       "      <th></th>\n",
       "      <th>OpenPorchSF</th>\n",
       "      <th>BsmtFinSF1</th>\n",
       "      <th>WoodDeckSF</th>\n",
       "      <th>HalfBath</th>\n",
       "      <th>Fireplaces</th>\n",
       "      <th>BedroomAbvGr</th>\n",
       "      <th>2ndFlrSF</th>\n",
       "      <th>EnclosedPorch</th>\n",
       "      <th>LotArea</th>\n",
       "      <th>TotalBsmtSF</th>\n",
       "      <th>...</th>\n",
       "      <th>Neighborhood_NoRidge</th>\n",
       "      <th>Neighborhood_NridgHt</th>\n",
       "      <th>Neighborhood_OldTown</th>\n",
       "      <th>Neighborhood_Sawyer</th>\n",
       "      <th>Neighborhood_Somerst</th>\n",
       "      <th>Neighborhood_StoneBr</th>\n",
       "      <th>Neighborhood_Timber</th>\n",
       "      <th>MSZoning_RL</th>\n",
       "      <th>MSZoning_RM</th>\n",
       "      <th>LotConfig_CulDSac</th>\n",
       "    </tr>\n",
       "  </thead>\n",
       "  <tbody>\n",
       "    <tr>\n",
       "      <th>0</th>\n",
       "      <td>0.206048</td>\n",
       "      <td>0.460437</td>\n",
       "      <td>0.000000</td>\n",
       "      <td>1.0</td>\n",
       "      <td>-1.0</td>\n",
       "      <td>0.0</td>\n",
       "      <td>1.213068</td>\n",
       "      <td>0.0000</td>\n",
       "      <td>-0.245112</td>\n",
       "      <td>-0.262279</td>\n",
       "      <td>...</td>\n",
       "      <td>0.0</td>\n",
       "      <td>0.0</td>\n",
       "      <td>0.0</td>\n",
       "      <td>0.0</td>\n",
       "      <td>0.0</td>\n",
       "      <td>0.0</td>\n",
       "      <td>0.0</td>\n",
       "      <td>1.0</td>\n",
       "      <td>0.0</td>\n",
       "      <td>0.0</td>\n",
       "    </tr>\n",
       "    <tr>\n",
       "      <th>1</th>\n",
       "      <td>-0.759776</td>\n",
       "      <td>0.831514</td>\n",
       "      <td>1.773810</td>\n",
       "      <td>0.0</td>\n",
       "      <td>0.0</td>\n",
       "      <td>0.0</td>\n",
       "      <td>0.000000</td>\n",
       "      <td>0.0000</td>\n",
       "      <td>0.035924</td>\n",
       "      <td>0.535363</td>\n",
       "      <td>...</td>\n",
       "      <td>0.0</td>\n",
       "      <td>0.0</td>\n",
       "      <td>0.0</td>\n",
       "      <td>0.0</td>\n",
       "      <td>0.0</td>\n",
       "      <td>0.0</td>\n",
       "      <td>0.0</td>\n",
       "      <td>1.0</td>\n",
       "      <td>0.0</td>\n",
       "      <td>0.0</td>\n",
       "    </tr>\n",
       "    <tr>\n",
       "      <th>2</th>\n",
       "      <td>0.114599</td>\n",
       "      <td>0.160300</td>\n",
       "      <td>0.000000</td>\n",
       "      <td>1.0</td>\n",
       "      <td>0.0</td>\n",
       "      <td>0.0</td>\n",
       "      <td>1.230114</td>\n",
       "      <td>0.0000</td>\n",
       "      <td>0.439150</td>\n",
       "      <td>-0.136542</td>\n",
       "      <td>...</td>\n",
       "      <td>0.0</td>\n",
       "      <td>0.0</td>\n",
       "      <td>0.0</td>\n",
       "      <td>0.0</td>\n",
       "      <td>0.0</td>\n",
       "      <td>0.0</td>\n",
       "      <td>0.0</td>\n",
       "      <td>1.0</td>\n",
       "      <td>0.0</td>\n",
       "      <td>0.0</td>\n",
       "    </tr>\n",
       "    <tr>\n",
       "      <th>3</th>\n",
       "      <td>0.070621</td>\n",
       "      <td>-0.208049</td>\n",
       "      <td>0.000000</td>\n",
       "      <td>0.0</td>\n",
       "      <td>0.0</td>\n",
       "      <td>0.0</td>\n",
       "      <td>1.073864</td>\n",
       "      <td>2.7514</td>\n",
       "      <td>0.023705</td>\n",
       "      <td>-0.458743</td>\n",
       "      <td>...</td>\n",
       "      <td>0.0</td>\n",
       "      <td>0.0</td>\n",
       "      <td>0.0</td>\n",
       "      <td>0.0</td>\n",
       "      <td>0.0</td>\n",
       "      <td>0.0</td>\n",
       "      <td>0.0</td>\n",
       "      <td>1.0</td>\n",
       "      <td>0.0</td>\n",
       "      <td>0.0</td>\n",
       "    </tr>\n",
       "    <tr>\n",
       "      <th>4</th>\n",
       "      <td>0.285854</td>\n",
       "      <td>0.390859</td>\n",
       "      <td>1.142857</td>\n",
       "      <td>1.0</td>\n",
       "      <td>0.0</td>\n",
       "      <td>1.0</td>\n",
       "      <td>1.495739</td>\n",
       "      <td>0.0000</td>\n",
       "      <td>1.174731</td>\n",
       "      <td>0.305501</td>\n",
       "      <td>...</td>\n",
       "      <td>1.0</td>\n",
       "      <td>0.0</td>\n",
       "      <td>0.0</td>\n",
       "      <td>0.0</td>\n",
       "      <td>0.0</td>\n",
       "      <td>0.0</td>\n",
       "      <td>0.0</td>\n",
       "      <td>1.0</td>\n",
       "      <td>0.0</td>\n",
       "      <td>0.0</td>\n",
       "    </tr>\n",
       "  </tbody>\n",
       "</table>\n",
       "<p>5 rows × 112 columns</p>\n",
       "</div>"
      ],
      "text/plain": [
       "   OpenPorchSF  BsmtFinSF1  WoodDeckSF  HalfBath  Fireplaces  BedroomAbvGr  \\\n",
       "0     0.206048    0.460437    0.000000       1.0        -1.0           0.0   \n",
       "1    -0.759776    0.831514    1.773810       0.0         0.0           0.0   \n",
       "2     0.114599    0.160300    0.000000       1.0         0.0           0.0   \n",
       "3     0.070621   -0.208049    0.000000       0.0         0.0           0.0   \n",
       "4     0.285854    0.390859    1.142857       1.0         0.0           1.0   \n",
       "\n",
       "   2ndFlrSF  EnclosedPorch   LotArea  TotalBsmtSF  ...  Neighborhood_NoRidge  \\\n",
       "0  1.213068         0.0000 -0.245112    -0.262279  ...                   0.0   \n",
       "1  0.000000         0.0000  0.035924     0.535363  ...                   0.0   \n",
       "2  1.230114         0.0000  0.439150    -0.136542  ...                   0.0   \n",
       "3  1.073864         2.7514  0.023705    -0.458743  ...                   0.0   \n",
       "4  1.495739         0.0000  1.174731     0.305501  ...                   1.0   \n",
       "\n",
       "   Neighborhood_NridgHt  Neighborhood_OldTown  Neighborhood_Sawyer  \\\n",
       "0                   0.0                   0.0                  0.0   \n",
       "1                   0.0                   0.0                  0.0   \n",
       "2                   0.0                   0.0                  0.0   \n",
       "3                   0.0                   0.0                  0.0   \n",
       "4                   0.0                   0.0                  0.0   \n",
       "\n",
       "   Neighborhood_Somerst  Neighborhood_StoneBr  Neighborhood_Timber  \\\n",
       "0                   0.0                   0.0                  0.0   \n",
       "1                   0.0                   0.0                  0.0   \n",
       "2                   0.0                   0.0                  0.0   \n",
       "3                   0.0                   0.0                  0.0   \n",
       "4                   0.0                   0.0                  0.0   \n",
       "\n",
       "   MSZoning_RL  MSZoning_RM  LotConfig_CulDSac  \n",
       "0          1.0          0.0                0.0  \n",
       "1          1.0          0.0                0.0  \n",
       "2          1.0          0.0                0.0  \n",
       "3          1.0          0.0                0.0  \n",
       "4          1.0          0.0                0.0  \n",
       "\n",
       "[5 rows x 112 columns]"
      ]
     },
     "execution_count": 145,
     "metadata": {},
     "output_type": "execute_result"
    }
   ],
   "source": [
    "df7=df6[corr10p.index].copy()\n",
    "df7.head()"
   ]
  },
  {
   "cell_type": "markdown",
   "id": "d02fa4c6-91e8-4cc8-8224-e3bd173b4a20",
   "metadata": {},
   "source": [
    "`df7` hanya menggunakan kolom yang memiliki korelasi `|r|>0.1` (dan kolum `Id`)"
   ]
  },
  {
   "cell_type": "markdown",
   "id": "e9a77bf6-867f-4c09-b4b1-a45e7f7365bd",
   "metadata": {},
   "source": [
    "Selanjutnya, kita akan menggunakan beberapa model regeresi seperti `RandomForestRegressor`,\n",
    "`LinearRegressor`, dll.\n",
    "\n",
    "Untuk melakukan evaluasi (memeriksa seberapa bagus prediksi suatu model), kita menggunakan \n",
    "[_Cross Validation_](https://it.mathworks.com/discovery/cross-validation/_jcr_content/mainParsys/image.adapt.full.medium.jpg/1676051588233.jpg)"
   ]
  },
  {
   "cell_type": "code",
   "execution_count": 113,
   "id": "5e31cb38-02e9-4116-91c7-bc02a95cf363",
   "metadata": {
    "tags": []
   },
   "outputs": [],
   "source": [
    "from sklearn.model_selection import cross_val_score"
   ]
  },
  {
   "cell_type": "code",
   "execution_count": 114,
   "id": "4575f467-b80e-442b-b895-e0dfdaa07ac8",
   "metadata": {
    "tags": []
   },
   "outputs": [],
   "source": [
    "from sklearn.linear_model import LinearRegression\n",
    "from sklearn.ensemble import RandomForestRegressor"
   ]
  },
  {
   "cell_type": "code",
   "execution_count": 146,
   "id": "ab271341-afdd-4fad-b856-b4ae416e5209",
   "metadata": {
    "tags": []
   },
   "outputs": [],
   "source": [
    "X=df7.iloc[:len(train)].drop(\"SalePrice\",axis=1)\n",
    "y=train['SalePrice']"
   ]
  },
  {
   "cell_type": "code",
   "execution_count": 147,
   "id": "01d1055f-8923-462a-8a05-af2a7158ed6a",
   "metadata": {
    "tags": []
   },
   "outputs": [],
   "source": [
    "rf=RandomForestRegressor()"
   ]
  },
  {
   "cell_type": "code",
   "execution_count": 148,
   "id": "5445c087-7980-42b5-9795-dc6a67c3990d",
   "metadata": {
    "tags": []
   },
   "outputs": [
    {
     "data": {
      "text/plain": [
       "0.8488143354519508"
      ]
     },
     "execution_count": 148,
     "metadata": {},
     "output_type": "execute_result"
    }
   ],
   "source": [
    "cross_val_score(rf,X,y).mean()"
   ]
  },
  {
   "cell_type": "code",
   "execution_count": 149,
   "id": "2f52a2f8-2c7a-47c0-86d3-bd5eb74a143c",
   "metadata": {
    "tags": []
   },
   "outputs": [],
   "source": [
    "lr=LinearRegression()"
   ]
  },
  {
   "cell_type": "code",
   "execution_count": 150,
   "id": "8e4b8846-cc76-4c6c-8469-0966844ee0ed",
   "metadata": {
    "tags": []
   },
   "outputs": [
    {
     "data": {
      "text/plain": [
       "-6.665700643746545e+17"
      ]
     },
     "execution_count": 150,
     "metadata": {},
     "output_type": "execute_result"
    }
   ],
   "source": [
    "cross_val_score(lr,X,y).mean()"
   ]
  },
  {
   "cell_type": "code",
   "execution_count": 151,
   "id": "86b10b2d-ff33-46b3-94e4-450bcfb2711f",
   "metadata": {
    "tags": []
   },
   "outputs": [],
   "source": [
    "X_test=df7[len(train):].drop(\"SalePrice\",axis=1)"
   ]
  },
  {
   "cell_type": "code",
   "execution_count": 152,
   "id": "dcbf3421-8bc3-4945-8f99-2359c271784d",
   "metadata": {
    "tags": []
   },
   "outputs": [
    {
     "data": {
      "text/html": [
       "<style>#sk-container-id-2 {color: black;background-color: white;}#sk-container-id-2 pre{padding: 0;}#sk-container-id-2 div.sk-toggleable {background-color: white;}#sk-container-id-2 label.sk-toggleable__label {cursor: pointer;display: block;width: 100%;margin-bottom: 0;padding: 0.3em;box-sizing: border-box;text-align: center;}#sk-container-id-2 label.sk-toggleable__label-arrow:before {content: \"▸\";float: left;margin-right: 0.25em;color: #696969;}#sk-container-id-2 label.sk-toggleable__label-arrow:hover:before {color: black;}#sk-container-id-2 div.sk-estimator:hover label.sk-toggleable__label-arrow:before {color: black;}#sk-container-id-2 div.sk-toggleable__content {max-height: 0;max-width: 0;overflow: hidden;text-align: left;background-color: #f0f8ff;}#sk-container-id-2 div.sk-toggleable__content pre {margin: 0.2em;color: black;border-radius: 0.25em;background-color: #f0f8ff;}#sk-container-id-2 input.sk-toggleable__control:checked~div.sk-toggleable__content {max-height: 200px;max-width: 100%;overflow: auto;}#sk-container-id-2 input.sk-toggleable__control:checked~label.sk-toggleable__label-arrow:before {content: \"▾\";}#sk-container-id-2 div.sk-estimator input.sk-toggleable__control:checked~label.sk-toggleable__label {background-color: #d4ebff;}#sk-container-id-2 div.sk-label input.sk-toggleable__control:checked~label.sk-toggleable__label {background-color: #d4ebff;}#sk-container-id-2 input.sk-hidden--visually {border: 0;clip: rect(1px 1px 1px 1px);clip: rect(1px, 1px, 1px, 1px);height: 1px;margin: -1px;overflow: hidden;padding: 0;position: absolute;width: 1px;}#sk-container-id-2 div.sk-estimator {font-family: monospace;background-color: #f0f8ff;border: 1px dotted black;border-radius: 0.25em;box-sizing: border-box;margin-bottom: 0.5em;}#sk-container-id-2 div.sk-estimator:hover {background-color: #d4ebff;}#sk-container-id-2 div.sk-parallel-item::after {content: \"\";width: 100%;border-bottom: 1px solid gray;flex-grow: 1;}#sk-container-id-2 div.sk-label:hover label.sk-toggleable__label {background-color: #d4ebff;}#sk-container-id-2 div.sk-serial::before {content: \"\";position: absolute;border-left: 1px solid gray;box-sizing: border-box;top: 0;bottom: 0;left: 50%;z-index: 0;}#sk-container-id-2 div.sk-serial {display: flex;flex-direction: column;align-items: center;background-color: white;padding-right: 0.2em;padding-left: 0.2em;position: relative;}#sk-container-id-2 div.sk-item {position: relative;z-index: 1;}#sk-container-id-2 div.sk-parallel {display: flex;align-items: stretch;justify-content: center;background-color: white;position: relative;}#sk-container-id-2 div.sk-item::before, #sk-container-id-2 div.sk-parallel-item::before {content: \"\";position: absolute;border-left: 1px solid gray;box-sizing: border-box;top: 0;bottom: 0;left: 50%;z-index: -1;}#sk-container-id-2 div.sk-parallel-item {display: flex;flex-direction: column;z-index: 1;position: relative;background-color: white;}#sk-container-id-2 div.sk-parallel-item:first-child::after {align-self: flex-end;width: 50%;}#sk-container-id-2 div.sk-parallel-item:last-child::after {align-self: flex-start;width: 50%;}#sk-container-id-2 div.sk-parallel-item:only-child::after {width: 0;}#sk-container-id-2 div.sk-dashed-wrapped {border: 1px dashed gray;margin: 0 0.4em 0.5em 0.4em;box-sizing: border-box;padding-bottom: 0.4em;background-color: white;}#sk-container-id-2 div.sk-label label {font-family: monospace;font-weight: bold;display: inline-block;line-height: 1.2em;}#sk-container-id-2 div.sk-label-container {text-align: center;}#sk-container-id-2 div.sk-container {/* jupyter's `normalize.less` sets `[hidden] { display: none; }` but bootstrap.min.css set `[hidden] { display: none !important; }` so we also need the `!important` here to be able to override the default hidden behavior on the sphinx rendered scikit-learn.org. See: https://github.com/scikit-learn/scikit-learn/issues/21755 */display: inline-block !important;position: relative;}#sk-container-id-2 div.sk-text-repr-fallback {display: none;}</style><div id=\"sk-container-id-2\" class=\"sk-top-container\"><div class=\"sk-text-repr-fallback\"><pre>RandomForestRegressor()</pre><b>In a Jupyter environment, please rerun this cell to show the HTML representation or trust the notebook. <br />On GitHub, the HTML representation is unable to render, please try loading this page with nbviewer.org.</b></div><div class=\"sk-container\" hidden><div class=\"sk-item\"><div class=\"sk-estimator sk-toggleable\"><input class=\"sk-toggleable__control sk-hidden--visually\" id=\"sk-estimator-id-2\" type=\"checkbox\" checked><label for=\"sk-estimator-id-2\" class=\"sk-toggleable__label sk-toggleable__label-arrow\">RandomForestRegressor</label><div class=\"sk-toggleable__content\"><pre>RandomForestRegressor()</pre></div></div></div></div></div>"
      ],
      "text/plain": [
       "RandomForestRegressor()"
      ]
     },
     "execution_count": 152,
     "metadata": {},
     "output_type": "execute_result"
    }
   ],
   "source": [
    "rf.fit(X,y)"
   ]
  },
  {
   "cell_type": "code",
   "execution_count": 153,
   "id": "899f2ad2-e3e7-4b4f-8793-d56a8a3846fc",
   "metadata": {
    "tags": []
   },
   "outputs": [],
   "source": [
    "test_ = pd.read_csv(\"test.csv\")"
   ]
  },
  {
   "cell_type": "code",
   "execution_count": 154,
   "id": "62900a5e-4415-48e4-aa8f-e33ae31e888b",
   "metadata": {
    "tags": []
   },
   "outputs": [],
   "source": [
    "submission=pd.DataFrame({\n",
    "    'Id':test_['Id'],\n",
    "    'SalePrice':rf.predict(X_test)\n",
    "})"
   ]
  },
  {
   "cell_type": "code",
   "execution_count": 142,
   "id": "998e3586-5b39-400b-b24a-9d1a434d010e",
   "metadata": {
    "tags": []
   },
   "outputs": [
    {
     "data": {
      "text/html": [
       "<div>\n",
       "<style scoped>\n",
       "    .dataframe tbody tr th:only-of-type {\n",
       "        vertical-align: middle;\n",
       "    }\n",
       "\n",
       "    .dataframe tbody tr th {\n",
       "        vertical-align: top;\n",
       "    }\n",
       "\n",
       "    .dataframe thead th {\n",
       "        text-align: right;\n",
       "    }\n",
       "</style>\n",
       "<table border=\"1\" class=\"dataframe\">\n",
       "  <thead>\n",
       "    <tr style=\"text-align: right;\">\n",
       "      <th></th>\n",
       "      <th>Id</th>\n",
       "      <th>SalePrice</th>\n",
       "    </tr>\n",
       "  </thead>\n",
       "  <tbody>\n",
       "    <tr>\n",
       "      <th>0</th>\n",
       "      <td>1461</td>\n",
       "      <td>120696.425000</td>\n",
       "    </tr>\n",
       "    <tr>\n",
       "      <th>1</th>\n",
       "      <td>1462</td>\n",
       "      <td>158800.180000</td>\n",
       "    </tr>\n",
       "    <tr>\n",
       "      <th>2</th>\n",
       "      <td>1463</td>\n",
       "      <td>182178.000000</td>\n",
       "    </tr>\n",
       "    <tr>\n",
       "      <th>3</th>\n",
       "      <td>1464</td>\n",
       "      <td>206578.560000</td>\n",
       "    </tr>\n",
       "    <tr>\n",
       "      <th>4</th>\n",
       "      <td>1465</td>\n",
       "      <td>206352.786667</td>\n",
       "    </tr>\n",
       "    <tr>\n",
       "      <th>...</th>\n",
       "      <td>...</td>\n",
       "      <td>...</td>\n",
       "    </tr>\n",
       "    <tr>\n",
       "      <th>1454</th>\n",
       "      <td>2915</td>\n",
       "      <td>76470.690476</td>\n",
       "    </tr>\n",
       "    <tr>\n",
       "      <th>1455</th>\n",
       "      <td>2916</td>\n",
       "      <td>83703.315476</td>\n",
       "    </tr>\n",
       "    <tr>\n",
       "      <th>1456</th>\n",
       "      <td>2917</td>\n",
       "      <td>148125.570000</td>\n",
       "    </tr>\n",
       "    <tr>\n",
       "      <th>1457</th>\n",
       "      <td>2918</td>\n",
       "      <td>103222.076190</td>\n",
       "    </tr>\n",
       "    <tr>\n",
       "      <th>1458</th>\n",
       "      <td>2919</td>\n",
       "      <td>150129.000000</td>\n",
       "    </tr>\n",
       "  </tbody>\n",
       "</table>\n",
       "<p>1459 rows × 2 columns</p>\n",
       "</div>"
      ],
      "text/plain": [
       "        Id      SalePrice\n",
       "0     1461  120696.425000\n",
       "1     1462  158800.180000\n",
       "2     1463  182178.000000\n",
       "3     1464  206578.560000\n",
       "4     1465  206352.786667\n",
       "...    ...            ...\n",
       "1454  2915   76470.690476\n",
       "1455  2916   83703.315476\n",
       "1456  2917  148125.570000\n",
       "1457  2918  103222.076190\n",
       "1458  2919  150129.000000\n",
       "\n",
       "[1459 rows x 2 columns]"
      ]
     },
     "execution_count": 142,
     "metadata": {},
     "output_type": "execute_result"
    }
   ],
   "source": [
    "submission"
   ]
  },
  {
   "cell_type": "code",
   "execution_count": 156,
   "id": "e18ad3dc-98bc-49a7-a752-2da48b206ff5",
   "metadata": {
    "tags": []
   },
   "outputs": [],
   "source": [
    "submission.to_csv(\"submission2.csv\",index=False)"
   ]
  },
  {
   "cell_type": "code",
   "execution_count": null,
   "id": "a5bce20c-38cb-45f0-9396-6bfd32a92390",
   "metadata": {},
   "outputs": [],
   "source": []
  }
 ],
 "metadata": {
  "kernelspec": {
   "display_name": "Python 3 (ipykernel)",
   "language": "python",
   "name": "python3"
  },
  "language_info": {
   "codemirror_mode": {
    "name": "ipython",
    "version": 3
   },
   "file_extension": ".py",
   "mimetype": "text/x-python",
   "name": "python",
   "nbconvert_exporter": "python",
   "pygments_lexer": "ipython3",
   "version": "3.9.16"
  }
 },
 "nbformat": 4,
 "nbformat_minor": 5
}
